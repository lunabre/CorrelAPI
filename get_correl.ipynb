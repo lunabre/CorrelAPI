{
 "cells": [
  {
   "cell_type": "markdown",
   "id": "mature-watson",
   "metadata": {},
   "source": [
    "## define correlation calc value which will be used for POST request. only parameter is rolling_window, and should return correlations for all variables in all dates"
   ]
  },
  {
   "cell_type": "code",
   "execution_count": 1,
   "id": "induced-prevention",
   "metadata": {
    "tags": []
   },
   "outputs": [],
   "source": [
    "from correl_pkg.main import get_correl"
   ]
  },
  {
   "cell_type": "code",
   "execution_count": 2,
   "id": "functioning-gateway",
   "metadata": {},
   "outputs": [],
   "source": [
    "rolling_window = 4"
   ]
  },
  {
   "cell_type": "code",
   "execution_count": 3,
   "id": "improved-reviewer",
   "metadata": {},
   "outputs": [],
   "source": [
    "try:\n",
    "    df = get_correl(rolling_window)\n",
    "except:\n",
    "    df = get_correl()\n",
    "    "
   ]
  },
  {
   "cell_type": "code",
   "execution_count": 4,
   "id": "ordinary-leave",
   "metadata": {},
   "outputs": [
    {
     "data": {
      "text/html": [
       "<div>\n",
       "<style scoped>\n",
       "    .dataframe tbody tr th:only-of-type {\n",
       "        vertical-align: middle;\n",
       "    }\n",
       "\n",
       "    .dataframe tbody tr th {\n",
       "        vertical-align: top;\n",
       "    }\n",
       "\n",
       "    .dataframe thead th {\n",
       "        text-align: right;\n",
       "    }\n",
       "</style>\n",
       "<table border=\"1\" class=\"dataframe\">\n",
       "  <thead>\n",
       "    <tr style=\"text-align: right;\">\n",
       "      <th></th>\n",
       "      <th>as_of_date</th>\n",
       "      <th>variable_id_1</th>\n",
       "      <th>variable_id_2</th>\n",
       "      <th>calculation_date</th>\n",
       "      <th>value</th>\n",
       "    </tr>\n",
       "  </thead>\n",
       "  <tbody>\n",
       "    <tr>\n",
       "      <th>0</th>\n",
       "      <td>2021-01-01</td>\n",
       "      <td>id_1</td>\n",
       "      <td>id_1</td>\n",
       "      <td>2021-03-31</td>\n",
       "      <td>NaN</td>\n",
       "    </tr>\n",
       "    <tr>\n",
       "      <th>1</th>\n",
       "      <td>2021-01-04</td>\n",
       "      <td>id_1</td>\n",
       "      <td>id_1</td>\n",
       "      <td>2021-03-31</td>\n",
       "      <td>NaN</td>\n",
       "    </tr>\n",
       "    <tr>\n",
       "      <th>2</th>\n",
       "      <td>2021-01-05</td>\n",
       "      <td>id_1</td>\n",
       "      <td>id_1</td>\n",
       "      <td>2021-03-31</td>\n",
       "      <td>NaN</td>\n",
       "    </tr>\n",
       "    <tr>\n",
       "      <th>3</th>\n",
       "      <td>2021-01-06</td>\n",
       "      <td>id_1</td>\n",
       "      <td>id_1</td>\n",
       "      <td>2021-03-31</td>\n",
       "      <td>1.0</td>\n",
       "    </tr>\n",
       "    <tr>\n",
       "      <th>4</th>\n",
       "      <td>2021-01-07</td>\n",
       "      <td>id_1</td>\n",
       "      <td>id_1</td>\n",
       "      <td>2021-03-31</td>\n",
       "      <td>1.0</td>\n",
       "    </tr>\n",
       "    <tr>\n",
       "      <th>...</th>\n",
       "      <td>...</td>\n",
       "      <td>...</td>\n",
       "      <td>...</td>\n",
       "      <td>...</td>\n",
       "      <td>...</td>\n",
       "    </tr>\n",
       "    <tr>\n",
       "      <th>955</th>\n",
       "      <td>2021-03-19</td>\n",
       "      <td>id_4</td>\n",
       "      <td>id_4</td>\n",
       "      <td>2021-03-31</td>\n",
       "      <td>1.0</td>\n",
       "    </tr>\n",
       "    <tr>\n",
       "      <th>956</th>\n",
       "      <td>2021-03-22</td>\n",
       "      <td>id_4</td>\n",
       "      <td>id_4</td>\n",
       "      <td>2021-03-31</td>\n",
       "      <td>1.0</td>\n",
       "    </tr>\n",
       "    <tr>\n",
       "      <th>957</th>\n",
       "      <td>2021-03-23</td>\n",
       "      <td>id_4</td>\n",
       "      <td>id_4</td>\n",
       "      <td>2021-03-31</td>\n",
       "      <td>1.0</td>\n",
       "    </tr>\n",
       "    <tr>\n",
       "      <th>958</th>\n",
       "      <td>2021-03-24</td>\n",
       "      <td>id_4</td>\n",
       "      <td>id_4</td>\n",
       "      <td>2021-03-31</td>\n",
       "      <td>1.0</td>\n",
       "    </tr>\n",
       "    <tr>\n",
       "      <th>959</th>\n",
       "      <td>2021-03-25</td>\n",
       "      <td>id_4</td>\n",
       "      <td>id_4</td>\n",
       "      <td>2021-03-31</td>\n",
       "      <td>1.0</td>\n",
       "    </tr>\n",
       "  </tbody>\n",
       "</table>\n",
       "<p>960 rows × 5 columns</p>\n",
       "</div>"
      ],
      "text/plain": [
       "     as_of_date variable_id_1 variable_id_2 calculation_date  value\n",
       "0    2021-01-01          id_1          id_1       2021-03-31    NaN\n",
       "1    2021-01-04          id_1          id_1       2021-03-31    NaN\n",
       "2    2021-01-05          id_1          id_1       2021-03-31    NaN\n",
       "3    2021-01-06          id_1          id_1       2021-03-31    1.0\n",
       "4    2021-01-07          id_1          id_1       2021-03-31    1.0\n",
       "..          ...           ...           ...              ...    ...\n",
       "955  2021-03-19          id_4          id_4       2021-03-31    1.0\n",
       "956  2021-03-22          id_4          id_4       2021-03-31    1.0\n",
       "957  2021-03-23          id_4          id_4       2021-03-31    1.0\n",
       "958  2021-03-24          id_4          id_4       2021-03-31    1.0\n",
       "959  2021-03-25          id_4          id_4       2021-03-31    1.0\n",
       "\n",
       "[960 rows x 5 columns]"
      ]
     },
     "execution_count": 4,
     "metadata": {},
     "output_type": "execute_result"
    }
   ],
   "source": [
    "df"
   ]
  }
 ],
 "metadata": {
  "kernelspec": {
   "display_name": "Python 3",
   "language": "python",
   "name": "python3"
  },
  "language_info": {
   "codemirror_mode": {
    "name": "ipython",
    "version": 3
   },
   "file_extension": ".py",
   "mimetype": "text/x-python",
   "name": "python",
   "nbconvert_exporter": "python",
   "pygments_lexer": "ipython3",
   "version": "3.9.2"
  }
 },
 "nbformat": 4,
 "nbformat_minor": 5
}
