{
 "cells": [
  {
   "cell_type": "code",
   "execution_count": 3,
   "id": "swiss-nurse",
   "metadata": {},
   "outputs": [],
   "source": [
    "import pandas as pd\n",
    "import os\n",
    "import random\n",
    "from datetime import datetime"
   ]
  },
  {
   "cell_type": "code",
   "execution_count": 4,
   "id": "novel-commonwealth",
   "metadata": {},
   "outputs": [
    {
     "data": {
      "text/plain": [
       "['.git',\n",
       " '.gitattributes',\n",
       " '.ipynb_checkpoints',\n",
       " 'generate_initial_values.ipynb',\n",
       " 'README.md',\n",
       " 'var_correlations.csv',\n",
       " 'var_definitions.csv',\n",
       " 'var_values.csv']"
      ]
     },
     "execution_count": 4,
     "metadata": {},
     "output_type": "execute_result"
    }
   ],
   "source": [
    "os.listdir()"
   ]
  },
  {
   "cell_type": "code",
   "execution_count": 5,
   "id": "executive-rehabilitation",
   "metadata": {},
   "outputs": [
    {
     "data": {
      "text/html": [
       "<div>\n",
       "<style scoped>\n",
       "    .dataframe tbody tr th:only-of-type {\n",
       "        vertical-align: middle;\n",
       "    }\n",
       "\n",
       "    .dataframe tbody tr th {\n",
       "        vertical-align: top;\n",
       "    }\n",
       "\n",
       "    .dataframe thead th {\n",
       "        text-align: right;\n",
       "    }\n",
       "</style>\n",
       "<table border=\"1\" class=\"dataframe\">\n",
       "  <thead>\n",
       "    <tr style=\"text-align: right;\">\n",
       "      <th></th>\n",
       "      <th>variable_id</th>\n",
       "      <th>variable_code</th>\n",
       "      <th>variable_name</th>\n",
       "    </tr>\n",
       "  </thead>\n",
       "  <tbody>\n",
       "    <tr>\n",
       "      <th>0</th>\n",
       "      <td>id_1</td>\n",
       "      <td>ALPHA</td>\n",
       "      <td>Variable Alpha</td>\n",
       "    </tr>\n",
       "    <tr>\n",
       "      <th>1</th>\n",
       "      <td>id_2</td>\n",
       "      <td>BETA</td>\n",
       "      <td>Variable Beta</td>\n",
       "    </tr>\n",
       "    <tr>\n",
       "      <th>2</th>\n",
       "      <td>id_3</td>\n",
       "      <td>GAMMA</td>\n",
       "      <td>Variable Gamma</td>\n",
       "    </tr>\n",
       "    <tr>\n",
       "      <th>3</th>\n",
       "      <td>id_4</td>\n",
       "      <td>DELTA</td>\n",
       "      <td>Variable Delta</td>\n",
       "    </tr>\n",
       "  </tbody>\n",
       "</table>\n",
       "</div>"
      ],
      "text/plain": [
       "  variable_id variable_code   variable_name\n",
       "0        id_1         ALPHA  Variable Alpha\n",
       "1        id_2          BETA   Variable Beta\n",
       "2        id_3         GAMMA  Variable Gamma\n",
       "3        id_4         DELTA  Variable Delta"
      ]
     },
     "execution_count": 5,
     "metadata": {},
     "output_type": "execute_result"
    }
   ],
   "source": [
    "var_definitions = pd.read_csv('var_definitions.csv')\n",
    "var_definitions"
   ]
  },
  {
   "cell_type": "code",
   "execution_count": 6,
   "id": "checked-treat",
   "metadata": {
    "scrolled": true
   },
   "outputs": [
    {
     "data": {
      "text/html": [
       "<div>\n",
       "<style scoped>\n",
       "    .dataframe tbody tr th:only-of-type {\n",
       "        vertical-align: middle;\n",
       "    }\n",
       "\n",
       "    .dataframe tbody tr th {\n",
       "        vertical-align: top;\n",
       "    }\n",
       "\n",
       "    .dataframe thead th {\n",
       "        text-align: right;\n",
       "    }\n",
       "</style>\n",
       "<table border=\"1\" class=\"dataframe\">\n",
       "  <thead>\n",
       "    <tr style=\"text-align: right;\">\n",
       "      <th></th>\n",
       "      <th>variable_id</th>\n",
       "      <th>as_of_date</th>\n",
       "      <th>submit_date</th>\n",
       "      <th>value</th>\n",
       "    </tr>\n",
       "  </thead>\n",
       "  <tbody>\n",
       "    <tr>\n",
       "      <th>0</th>\n",
       "      <td>id_1</td>\n",
       "      <td>2021-01-01</td>\n",
       "      <td>2021-03-29</td>\n",
       "      <td>14</td>\n",
       "    </tr>\n",
       "  </tbody>\n",
       "</table>\n",
       "</div>"
      ],
      "text/plain": [
       "  variable_id  as_of_date submit_date  value\n",
       "0        id_1  2021-01-01  2021-03-29     14"
      ]
     },
     "execution_count": 6,
     "metadata": {},
     "output_type": "execute_result"
    }
   ],
   "source": [
    "var_values = pd.read_csv('var_values.csv')\n",
    "var_values.head()"
   ]
  },
  {
   "cell_type": "markdown",
   "id": "broadband-spouse",
   "metadata": {},
   "source": [
    "## generate random values for each variable from Jan 1st 2021 to Mar 25th 2021"
   ]
  },
  {
   "cell_type": "code",
   "execution_count": 7,
   "id": "dependent-gallery",
   "metadata": {},
   "outputs": [
    {
     "data": {
      "text/plain": [
       "60"
      ]
     },
     "execution_count": 7,
     "metadata": {},
     "output_type": "execute_result"
    }
   ],
   "source": [
    "dates = pd.bdate_range('2021-01-01','2021-03-25').tolist()\n",
    "len(dates)"
   ]
  },
  {
   "cell_type": "code",
   "execution_count": 8,
   "id": "powered-configuration",
   "metadata": {},
   "outputs": [
    {
     "data": {
      "text/html": [
       "<div>\n",
       "<style scoped>\n",
       "    .dataframe tbody tr th:only-of-type {\n",
       "        vertical-align: middle;\n",
       "    }\n",
       "\n",
       "    .dataframe tbody tr th {\n",
       "        vertical-align: top;\n",
       "    }\n",
       "\n",
       "    .dataframe thead th {\n",
       "        text-align: right;\n",
       "    }\n",
       "</style>\n",
       "<table border=\"1\" class=\"dataframe\">\n",
       "  <thead>\n",
       "    <tr style=\"text-align: right;\">\n",
       "      <th></th>\n",
       "      <th>variable_id</th>\n",
       "      <th>as_of_date</th>\n",
       "      <th>submit_date</th>\n",
       "      <th>value</th>\n",
       "    </tr>\n",
       "  </thead>\n",
       "  <tbody>\n",
       "    <tr>\n",
       "      <th>0</th>\n",
       "      <td>id_1</td>\n",
       "      <td>2021-01-01</td>\n",
       "      <td>2021-03-31</td>\n",
       "      <td>3</td>\n",
       "    </tr>\n",
       "    <tr>\n",
       "      <th>1</th>\n",
       "      <td>id_1</td>\n",
       "      <td>2021-01-04</td>\n",
       "      <td>2021-03-31</td>\n",
       "      <td>5</td>\n",
       "    </tr>\n",
       "    <tr>\n",
       "      <th>2</th>\n",
       "      <td>id_1</td>\n",
       "      <td>2021-01-05</td>\n",
       "      <td>2021-03-31</td>\n",
       "      <td>0</td>\n",
       "    </tr>\n",
       "    <tr>\n",
       "      <th>3</th>\n",
       "      <td>id_1</td>\n",
       "      <td>2021-01-06</td>\n",
       "      <td>2021-03-31</td>\n",
       "      <td>-2</td>\n",
       "    </tr>\n",
       "    <tr>\n",
       "      <th>4</th>\n",
       "      <td>id_1</td>\n",
       "      <td>2021-01-07</td>\n",
       "      <td>2021-03-31</td>\n",
       "      <td>11</td>\n",
       "    </tr>\n",
       "    <tr>\n",
       "      <th>...</th>\n",
       "      <td>...</td>\n",
       "      <td>...</td>\n",
       "      <td>...</td>\n",
       "      <td>...</td>\n",
       "    </tr>\n",
       "    <tr>\n",
       "      <th>55</th>\n",
       "      <td>id_4</td>\n",
       "      <td>2021-03-19</td>\n",
       "      <td>2021-03-31</td>\n",
       "      <td>-6</td>\n",
       "    </tr>\n",
       "    <tr>\n",
       "      <th>56</th>\n",
       "      <td>id_4</td>\n",
       "      <td>2021-03-22</td>\n",
       "      <td>2021-03-31</td>\n",
       "      <td>1</td>\n",
       "    </tr>\n",
       "    <tr>\n",
       "      <th>57</th>\n",
       "      <td>id_4</td>\n",
       "      <td>2021-03-23</td>\n",
       "      <td>2021-03-31</td>\n",
       "      <td>8</td>\n",
       "    </tr>\n",
       "    <tr>\n",
       "      <th>58</th>\n",
       "      <td>id_4</td>\n",
       "      <td>2021-03-24</td>\n",
       "      <td>2021-03-31</td>\n",
       "      <td>9</td>\n",
       "    </tr>\n",
       "    <tr>\n",
       "      <th>59</th>\n",
       "      <td>id_4</td>\n",
       "      <td>2021-03-25</td>\n",
       "      <td>2021-03-31</td>\n",
       "      <td>8</td>\n",
       "    </tr>\n",
       "  </tbody>\n",
       "</table>\n",
       "<p>240 rows × 4 columns</p>\n",
       "</div>"
      ],
      "text/plain": [
       "   variable_id as_of_date submit_date  value\n",
       "0         id_1 2021-01-01  2021-03-31      3\n",
       "1         id_1 2021-01-04  2021-03-31      5\n",
       "2         id_1 2021-01-05  2021-03-31      0\n",
       "3         id_1 2021-01-06  2021-03-31     -2\n",
       "4         id_1 2021-01-07  2021-03-31     11\n",
       "..         ...        ...         ...    ...\n",
       "55        id_4 2021-03-19  2021-03-31     -6\n",
       "56        id_4 2021-03-22  2021-03-31      1\n",
       "57        id_4 2021-03-23  2021-03-31      8\n",
       "58        id_4 2021-03-24  2021-03-31      9\n",
       "59        id_4 2021-03-25  2021-03-31      8\n",
       "\n",
       "[240 rows x 4 columns]"
      ]
     },
     "execution_count": 8,
     "metadata": {},
     "output_type": "execute_result"
    }
   ],
   "source": [
    "values = pd.DataFrame()\n",
    "for v in var_definitions.variable_id:\n",
    "    tmp = pd.DataFrame([(v, dates[i], datetime.today().strftime('%Y-%m-%d'), random.randrange(-6,12)) for i in range(len(dates))], columns = ['variable_id', 'as_of_date', 'submit_date', 'value'],)\n",
    "    values = values.append(tmp)\n",
    "\n",
    "values"
   ]
  },
  {
   "cell_type": "code",
   "execution_count": 9,
   "id": "interim-model",
   "metadata": {},
   "outputs": [],
   "source": [
    "values.to_csv('var_values.csv', index = False)"
   ]
  }
 ],
 "metadata": {
  "kernelspec": {
   "display_name": "Python 3",
   "language": "python",
   "name": "python3"
  },
  "language_info": {
   "codemirror_mode": {
    "name": "ipython",
    "version": 3
   },
   "file_extension": ".py",
   "mimetype": "text/x-python",
   "name": "python",
   "nbconvert_exporter": "python",
   "pygments_lexer": "ipython3",
   "version": "3.9.2"
  }
 },
 "nbformat": 4,
 "nbformat_minor": 5
}
